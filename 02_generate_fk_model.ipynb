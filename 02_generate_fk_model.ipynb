{
 "cells": [
  {
   "cell_type": "code",
   "execution_count": 7,
   "metadata": {},
   "outputs": [],
   "source": [
    "import re\n",
    "import numpy as np\n",
    "import os"
   ]
  },
  {
   "cell_type": "code",
   "execution_count": 8,
   "metadata": {},
   "outputs": [],
   "source": [
    "def chpar(fkstr, key, value):\n",
    "    patten = r'^({}\\s+)(.+?)(\\S+)'.format(key)\n",
    "    fkstr, repl_num = re.subn(patten, r'\\g<1>{}'.format(value), fkstr, flags=re.MULTILINE)\n",
    "    if repl_num == 0:\n",
    "        raise ValueError('Key \"{}\" not found in the input string.'.format(key))\n",
    "    return fkstr"
   ]
  },
  {
   "cell_type": "markdown",
   "metadata": {},
   "source": [
    "## 1. Change FK model in `DATA/FKmodel`\n",
    "\n",
    "The FK model is defined in the `DATA/FKmodel` folder. You can replace the existing model (See `01_create_grid_model.ipynb`) with your own `FKmodel`. Make sure to keep the same file structure and naming conventions."
   ]
  },
  {
   "cell_type": "code",
   "execution_count": 9,
   "metadata": {},
   "outputs": [],
   "source": [
    "fk_template = 'DATA/FKmodel'"
   ]
  },
  {
   "cell_type": "markdown",
   "metadata": {},
   "source": [
    "## 2. Set up back-azimuth and take-off angle\n",
    "\n",
    "The back-azimuth and take-off angle are defined in the `FKmodel` file to specify the direction of wave propagation."
   ]
  },
  {
   "cell_type": "code",
   "execution_count": 10,
   "metadata": {},
   "outputs": [],
   "source": [
    "# Calculate take-off angle in degrees\n",
    "def calc_take_off(vbot, rayp):\n",
    "    theta = np.rad2deg(np.arcsin(vbot * rayp))\n",
    "    return theta\n",
    "\n",
    "# Define parameters\n",
    "baz = np.arange(0, 360, 15)\n",
    "rayp = np.ones_like(baz) * 0.06\n",
    "vbot = 6574.0/1000  # in km/s\n",
    "with open(fk_template) as f:\n",
    "    fkstr = f.read()\n",
    "\n",
    "# Create output directory if it doesn't exist\n",
    "os.makedirs('src_rec', exist_ok=True)\n",
    "\n",
    "# Generate FK model files from template\n",
    "for id, ba in enumerate(baz):\n",
    "    fkcfg = chpar(fkstr, 'BACK_AZIMUTH', ba)\n",
    "    fkcfg = chpar(fkcfg, 'TAKE_OFF', calc_take_off(rayp[id], vbot))\n",
    "    with open(f'src_rec/FKmodel_{id:02d}', 'w') as f:\n",
    "        f.write(fkcfg)\n",
    "    os.system(f'cp DATA/STATIONS src_rec/STATIONS_{id:02d}')\n"
   ]
  },
  {
   "cell_type": "code",
   "execution_count": 11,
   "metadata": {},
   "outputs": [],
   "source": [
    "# Generate source list\n",
    "with open('src_rec/sources_rf.dat', 'w') as f:\n",
    "    for id in range(len(baz)):\n",
    "        f.write(f'{id:02d} 0.0 0.0 0.0 0.0 1.0\\n')"
   ]
  }
 ],
 "metadata": {
  "kernelspec": {
   "display_name": "fwat",
   "language": "python",
   "name": "python3"
  },
  "language_info": {
   "codemirror_mode": {
    "name": "ipython",
    "version": 3
   },
   "file_extension": ".py",
   "mimetype": "text/x-python",
   "name": "python",
   "nbconvert_exporter": "python",
   "pygments_lexer": "ipython3",
   "version": "3.13.5"
  }
 },
 "nbformat": 4,
 "nbformat_minor": 2
}
